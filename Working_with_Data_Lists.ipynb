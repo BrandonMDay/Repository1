{
  "nbformat": 4,
  "nbformat_minor": 0,
  "metadata": {
    "colab": {
      "name": "Copy of Working with Data Lists.ipynb",
      "provenance": [],
      "collapsed_sections": [],
      "include_colab_link": true
    },
    "kernelspec": {
      "name": "python3",
      "display_name": "Python 3"
    },
    "language_info": {
      "name": "python"
    }
  },
  "cells": [
    {
      "cell_type": "markdown",
      "metadata": {
        "id": "view-in-github",
        "colab_type": "text"
      },
      "source": [
        "<a href=\"https://colab.research.google.com/github/BrandonMDay/Repository1/blob/main/Working_with_Data_Lists.ipynb\" target=\"_parent\"><img src=\"https://colab.research.google.com/assets/colab-badge.svg\" alt=\"Open In Colab\"/></a>"
      ]
    },
    {
      "cell_type": "markdown",
      "metadata": {
        "id": "Z-M-RCWATK71"
      },
      "source": [
        "# Lists\n",
        "\n",
        "Often we need to store a number of single items of data together so that they can be processed together. This might be because all the data refers to one person (e.g. name, age, gender, etc) OR it might be because we have a set of data (e.g. all the items that should be displayed in a drop down list, such as all the years from this year back to 100 years ago so that someone can select their year of birth)\n",
        "\n",
        "Python has a range of data structures available including:\n",
        "*   lists  \n",
        "*   tuples  \n",
        "*   dictionaries  \n",
        "*   sets\n",
        "\n",
        "This worksheet looks at lists.\n",
        "\n",
        "## List\n",
        "A list is a set of related, individual data objects, that are indexed and can be processed as a whole, as subsets or as individual items.  Lists are stored, essentially, as contiguous items in memory so that access can be as quick as possible.  However, they are mutable (they can be changed after they have been created and stored) and so they need to have extra functionality to deal with changing list sizes.\n",
        "\n",
        "# Let's get some lists of data\n",
        "For this worksheet we are going to work with data on STEAM games.  We are going to get the data from a spreadsheet and make lists that we can find things out from.\n",
        "\n"
      ]
    },
    {
      "cell_type": "markdown",
      "source": [
        "## Creating a list\n",
        "---\n",
        "\n",
        "```\n",
        "nums = [1, 2, 3, 4, 5]\n",
        "names = [\"Tom\",\"Jerry\",\"Spike\"]\n",
        "```"
      ],
      "metadata": {
        "id": "TUvfamdEweE1"
      }
    },
    {
      "cell_type": "markdown",
      "source": [
        "## Exercise 1\n",
        "---\n",
        "Write a function **print_list()** that will create the two lists `nums` and `names`, then will print them as lists, e.g.\n",
        "\n",
        "```\n",
        "print(nums)\n",
        "```"
      ],
      "metadata": {
        "id": "TdbhgKdjw8RN"
      }
    },
    {
      "cell_type": "code",
      "source": [
        "# create the lists, and print them\n",
        "def print_list():\n",
        "  nums = [1, 2, 3, 4, 5]\n",
        "  names = [\"Tom\",\"Jerry\",\"Spike\"]\n",
        "  print(nums)\n",
        "  print(names)\n",
        "\n",
        "\n",
        "print_list()"
      ],
      "metadata": {
        "id": "MiigkTzM0cLT",
        "colab": {
          "base_uri": "https://localhost:8080/"
        },
        "outputId": "73cce542-1e1d-4474-b93c-78551e775814"
      },
      "execution_count": null,
      "outputs": [
        {
          "output_type": "stream",
          "name": "stdout",
          "text": [
            "[1, 2, 3, 4, 5]\n",
            "['Tom', 'Jerry', 'Spike']\n"
          ]
        }
      ]
    },
    {
      "cell_type": "markdown",
      "source": [
        "# Exercise 2\n",
        "---\n",
        "\n",
        "Write a function called **print_1st_3rd()** that will print the 1st and 3rd item in the names list."
      ],
      "metadata": {
        "id": "bCV4jL3mxRlx"
      }
    },
    {
      "cell_type": "code",
      "source": [
        "def print_1st_3rd():\n",
        "  names = [\"Tom\",\"Jerry\",\"Spike\"]\n",
        "  print(names[0])\n",
        "  print(names[2])\n",
        "\n",
        "\n",
        "print_1st_3rd()"
      ],
      "metadata": {
        "id": "zRiLBj7G0HWd",
        "colab": {
          "base_uri": "https://localhost:8080/"
        },
        "outputId": "f5b5d475-2297-4429-c13a-810f6b7dd0d5"
      },
      "execution_count": null,
      "outputs": [
        {
          "output_type": "stream",
          "name": "stdout",
          "text": [
            "Tom\n",
            "Spike\n"
          ]
        }
      ]
    },
    {
      "cell_type": "markdown",
      "source": [
        "## Exercise 3  - Print a subset of a list\n",
        "---\n",
        "\n",
        "Write a function **print_first_2()** which will create the nums list, then print print it\n"
      ],
      "metadata": {
        "id": "flklC_z_x68p"
      }
    },
    {
      "cell_type": "code",
      "source": [
        "# have a go at printing subsets of the lists\n",
        "def print_first_2():\n",
        "  nums = [1, 2, 3, 4, 5]\n",
        "  print(nums[:2])\n",
        "\n",
        "\n",
        "print_first_2()"
      ],
      "metadata": {
        "id": "Axf9WFjJ0NXE",
        "colab": {
          "base_uri": "https://localhost:8080/"
        },
        "outputId": "a4469f86-1b5f-4542-e7f7-e8d55bae4252"
      },
      "execution_count": null,
      "outputs": [
        {
          "output_type": "stream",
          "name": "stdout",
          "text": [
            "[1, 2]\n"
          ]
        }
      ]
    },
    {
      "cell_type": "markdown",
      "source": [
        "# List length\n",
        "\n",
        "Use the len() function to get the number of items in a list.\n",
        "\n",
        "There are 5 items in the nums list and 3 in the names list.\n",
        "\n",
        "Write a function **print_list_info()** that will:\n",
        "* create both lists\n",
        "* print the length of the nums list\n",
        "* print the length of the names list\n",
        "* concatenate (add) the two lists together to make a new list called num_names\n",
        "* print the length of the new list\n",
        "\n",
        "Expected output:\n",
        "```\n",
        "The length of the nums list is: 5\n",
        "The length of the names list is: 3\n",
        "The length of the joined list is: 8\n",
        "```\n"
      ],
      "metadata": {
        "id": "OFTklrSRuhpz"
      }
    },
    {
      "cell_type": "code",
      "source": [
        "def print_list_info():\n",
        "  nums = [1, 2, 3, 4, 5]\n",
        "  names = [\"Tom\",\"Jerry\",\"Spike\"]\n",
        "  print(f\"Length of num list: {len(nums)}\")\n",
        "  print(f\"Length of names list : {len(names)}\")\n",
        "  nums_names = nums + names\n",
        "  print(f\"Length of joined list: {len(nums_names)}\")\n",
        "\n",
        "\n",
        "print_list_info()"
      ],
      "metadata": {
        "id": "OLQfwEaDvPNT",
        "colab": {
          "base_uri": "https://localhost:8080/"
        },
        "outputId": "3eb83abc-cc16-4f0c-c727-6c5dfd79f3f7"
      },
      "execution_count": null,
      "outputs": [
        {
          "output_type": "stream",
          "name": "stdout",
          "text": [
            "Length of num list: 5\n",
            "Length of names list : 3\n",
            "Length of joined list: 8\n"
          ]
        }
      ]
    },
    {
      "cell_type": "markdown",
      "source": [
        "# List methods\n",
        "\n",
        "You can get an overview of the methods you can use here: https://www.w3schools.com/python/python_lists_methods.asp\n",
        "\n",
        "Then: \n",
        "1.  Create the nums and names list again \n",
        "2.  Append the number 6 to the nums list, and print\n",
        "3.  Insert the name \"Sylvester\" before \"Jerry\" in the names list and print\n",
        "4.  Print the length of the nums list\n",
        "5.  Remove the number 4 from the nums list, and print\n",
        "6.  Print the max and min of the nums list\n",
        "7.  Create a new list called new_nums which contains the numbers 40 to 50 (use the range function)\n",
        "\n",
        "**Expected output**: \n",
        "``` \n",
        "[1, 2, 3, 4, 5, 6]\n",
        "['Tom', 'Sylvester', 'Jerry', 'Spike']\n",
        "6\n",
        "[1, 2, 3, 5, 6]\n",
        "6 1\n",
        "range(40, 51)\n",
        "```"
      ],
      "metadata": {
        "id": "tBN4Shtd12on"
      }
    },
    {
      "cell_type": "code",
      "source": [
        "def list_methods():\n",
        "  nums = [1, 2, 3, 4, 5]\n",
        "  names = [\"Tom\",\"Jerry\",\"Spike\"]\n",
        "  nums.append(6)\n",
        "  print(nums)\n",
        "  names.insert(1, \"Sylvester\")\n",
        "  print(names)\n",
        "  print(len(nums))\n",
        "  nums.remove(4)\n",
        "  print(nums)\n",
        "  print(f\"Max: {max(nums)}, Min: {min(nums)}\")\n",
        "  new_nums = []\n",
        "  for n in range(40, 51):\n",
        "    new_nums.append(n)\n",
        "  print(new_nums)\n",
        "\n",
        "\n",
        "list_methods()"
      ],
      "metadata": {
        "id": "goe4w-yw4BVt",
        "colab": {
          "base_uri": "https://localhost:8080/"
        },
        "outputId": "efe72854-548a-4ecb-b968-c061d123d249"
      },
      "execution_count": null,
      "outputs": [
        {
          "output_type": "stream",
          "name": "stdout",
          "text": [
            "[1, 2, 3, 4, 5, 6]\n",
            "['Tom', 'Sylvester', 'Jerry', 'Spike']\n",
            "6\n",
            "[1, 2, 3, 5, 6]\n",
            "Max: 6, Min: 1\n",
            "[40, 41, 42, 43, 44, 45, 46, 47, 48, 49, 50]\n"
          ]
        }
      ]
    },
    {
      "cell_type": "markdown",
      "source": [
        "# Now some real data\n",
        "---\n",
        "\n",
        "1.  Open the STEAM csv file (which we have taken from Kaggle and have reduced to make it more manageable): https://drive.google.com/file/d/1amPnoBi3uhQXjFaQbUy-L-Y-eeJ1BcxE/view?usp=sharing  \n",
        "\n",
        "2.  Open the file with Google sheets to see what is in it.  The file contains rows of data, each with a user id and a game that the user has purchased.\n",
        "\n",
        "3.  NOW, run the code in the cell below to get:  \n",
        "- users (the list of user ids in the data)\n",
        "- titles (the list of titles that have been purchased)"
      ],
      "metadata": {
        "id": "T2tA2VavJx9Q"
      }
    },
    {
      "cell_type": "code",
      "source": [
        "import pandas as pd\n",
        "\n",
        "# open the data file and get a copy of the Titles column\n",
        "def get_users_and_titles():\n",
        "  url = \"https://drive.google.com/uc?id=1rkG8-cp-KLBc1zK4YMLHIsMMyyTVk5Ju\"\n",
        "  data_table = pd.read_csv(url)\n",
        "  return data_table[\"User\"].tolist(), data_table[\"Title\"].tolist() \n",
        "\n",
        "users, titles = get_users_and_titles()"
      ],
      "metadata": {
        "id": "8YyBIyoCmz5s"
      },
      "execution_count": 2,
      "outputs": []
    },
    {
      "cell_type": "markdown",
      "metadata": {
        "id": "Ft0dXl7fUuaK"
      },
      "source": [
        "---\n",
        "### Exercise 1 - list head, tail and length of the titles list\n",
        "---\n",
        "\n",
        "Write a function, **describe_list()** which will:\n",
        "*  print the length of the list `titles`\n",
        "*  print the first 10 items in `titles` (the head)  \n",
        "*  print the last 5 items in `titles` (the tail)\n",
        "\n",
        "Expected output:  \n",
        "```\n",
        "129511\n",
        "['The Elder Scrolls V Skyrim', 'Fallout 4', 'Spore', 'Fallout New Vegas', 'Left 4 Dead 2', 'HuniePop', 'Path of Exile', 'Poly Bridge', 'Left 4 Dead', 'Team Fortress 2']\n",
        "['Fallen Earth', 'Magic Duels', 'Titan Souls', 'Grand Theft Auto Vice City', 'RUSH']\n",
        "```"
      ]
    },
    {
      "cell_type": "code",
      "metadata": {
        "id": "jUcZD7mmTJdA",
        "colab": {
          "base_uri": "https://localhost:8080/"
        },
        "outputId": "759524d8-ebf4-4aee-b582-877bc237cc80"
      },
      "source": [
        "def print_info():\n",
        "  print(len(titles))\n",
        "  print(titles[0: 10])\n",
        "  print(titles[-5:])\n",
        "  print(len(users))\n",
        "\n",
        "\n",
        "print_info()"
      ],
      "execution_count": null,
      "outputs": [
        {
          "output_type": "stream",
          "name": "stdout",
          "text": [
            "129511\n",
            "['The Elder Scrolls V Skyrim', 'Fallout 4', 'Spore', 'Fallout New Vegas', 'Left 4 Dead 2', 'HuniePop', 'Path of Exile', 'Poly Bridge', 'Left 4 Dead', 'Team Fortress 2']\n",
            "['Fallen Earth', 'Magic Duels', 'Titan Souls', 'Grand Theft Auto Vice City', 'RUSH']\n",
            "129511\n"
          ]
        }
      ]
    },
    {
      "cell_type": "markdown",
      "metadata": {
        "id": "yNWg08k6bXv0"
      },
      "source": [
        "---\n",
        "### Exercise 2 - use a loop to print the first 20 items\n",
        "\n",
        "Write a function which will:\n",
        "*  create a new list from the first 20 items of the titles list\n",
        "*  loop through the new list and print each item\n"
      ]
    },
    {
      "cell_type": "code",
      "metadata": {
        "id": "P2HnCG9pb1BS",
        "colab": {
          "base_uri": "https://localhost:8080/"
        },
        "outputId": "1d497af5-7986-4400-c714-966d3c2951bb"
      },
      "source": [
        "def print_list():\n",
        "  new_titles = []\n",
        "  for n in titles[:20]:\n",
        "    new_titles.append(n)\n",
        "  print(new_titles)\n",
        "\n",
        "print_list()"
      ],
      "execution_count": null,
      "outputs": [
        {
          "output_type": "stream",
          "name": "stdout",
          "text": [
            "['The Elder Scrolls V Skyrim', 'Fallout 4', 'Spore', 'Fallout New Vegas', 'Left 4 Dead 2', 'HuniePop', 'Path of Exile', 'Poly Bridge', 'Left 4 Dead', 'Team Fortress 2', 'Tomb Raider', 'The Banner Saga', 'Dead Island Epidemic', 'BioShock Infinite', 'Dragon Age Origins - Ultimate Edition', 'Fallout 3 - Game of the Year Edition', 'SEGA Genesis & Mega Drive Classics', 'Grand Theft Auto IV', 'Realm of the Mad God', 'Marvel Heroes 2015']\n"
          ]
        }
      ]
    },
    {
      "cell_type": "markdown",
      "metadata": {
        "id": "RTSuQZs4b1JU"
      },
      "source": [
        "---\n",
        "### Exercise 3 - count the number of times a title appears in the list\n",
        "\n",
        "Write a function which will:\n",
        "*  count the number of times that the title Fallout 4 appears in the list\n",
        "\n",
        "Expected output:  \n",
        "168"
      ]
    },
    {
      "cell_type": "code",
      "metadata": {
        "id": "OwhFnH2kdC11",
        "colab": {
          "base_uri": "https://localhost:8080/"
        },
        "outputId": "2bf8d4a3-4e7f-4252-b128-1378681d9bf2"
      },
      "source": [
        "def count_title():\n",
        "  print(titles.count(\"Fallout 4\"))\n",
        "  \n",
        "\n",
        "count_title()"
      ],
      "execution_count": null,
      "outputs": [
        {
          "output_type": "stream",
          "name": "stdout",
          "text": [
            "168\n"
          ]
        }
      ]
    },
    {
      "cell_type": "markdown",
      "metadata": {
        "id": "KS0x3oFNePI9"
      },
      "source": [
        "---\n",
        "### Exercise 4 - remove all duplicates of a title from the list\n",
        "\n",
        "Write a function which will: remove all occurences of Fallout 4 from the titles list (Hint:  you can remove an occurence of Fallout 4 repeatedly until there is only one left).  This will require a while loop.\n"
      ]
    },
    {
      "cell_type": "code",
      "metadata": {
        "id": "mpK1Ip3we-uC",
        "colab": {
          "base_uri": "https://localhost:8080/"
        },
        "outputId": "6d1e34a3-6e6d-42cf-e247-2b90f4061568"
      },
      "source": [
        "def remove_duplicates():\n",
        "  \n",
        "  while titles.count(\"Fallout 4\") > 1:\n",
        "    titles.remove(\"Fallout 4\")\n",
        "  else:\n",
        "    print(titles[:100])\n",
        "  \n",
        "\n",
        "\n",
        "remove_duplicates()\n"
      ],
      "execution_count": null,
      "outputs": [
        {
          "output_type": "stream",
          "name": "stdout",
          "text": [
            "['The Elder Scrolls V Skyrim', 'Spore', 'Fallout New Vegas', 'Left 4 Dead 2', 'HuniePop', 'Path of Exile', 'Poly Bridge', 'Left 4 Dead', 'Team Fortress 2', 'Tomb Raider', 'The Banner Saga', 'Dead Island Epidemic', 'BioShock Infinite', 'Dragon Age Origins - Ultimate Edition', 'Fallout 3 - Game of the Year Edition', 'SEGA Genesis & Mega Drive Classics', 'Grand Theft Auto IV', 'Realm of the Mad God', 'Marvel Heroes 2015', 'Eldevin', 'Dota 2', 'BioShock', 'Robocraft', \"Garry's Mod\", 'Jazzpunk', 'Alan Wake', 'BioShock 2', 'Fallen Earth', \"Fallout New Vegas Courier's Stash\", 'Fallout New Vegas Dead Money', 'Fallout New Vegas Honest Hearts', 'Grand Theft Auto Episodes from Liberty City', 'Hitman Absolution', 'HuniePop Official Digital Art Collection', 'HuniePop Original Soundtrack', 'The Banner Saga - Mod Content', 'The Elder Scrolls V Skyrim - Dawnguard', 'The Elder Scrolls V Skyrim - Dragonborn', 'The Elder Scrolls V Skyrim - Hearthfire', 'Dota 2', 'Ultra Street Fighter IV', 'FINAL FANTASY XIII', 'The Elder Scrolls V Skyrim', \"Sid Meier's Civilization V\", 'L.A. Noire', 'Company of Heroes Tales of Valor', '7 Days to Die', 'Divekick', 'FINAL FANTASY VII', 'Orcs Must Die! 2', 'Killing Floor', 'Company of Heroes', 'Bastion', 'Undertale', 'Counter-Strike Global Offensive', 'Orcs Must Die!', 'THE KING OF FIGHTERS XIII STEAM EDITION', 'GUILTY GEAR XX ACCENT CORE PLUS R', 'Skullgirls', \"Assassin's Creed II\", 'Company of Heroes Opposing Fronts', 'Team Fortress 2', 'Guilty Gear X2 #Reload', 'Left 4 Dead 2', 'Psychonauts', 'Cities in Motion 2', 'Company of Heroes (New Steam Version)', 'Company of Heroes 2', 'Fallout New Vegas', \"Fallout New Vegas Courier's Stash\", 'Fallout New Vegas Dead Money', 'Fallout New Vegas Honest Hearts', \"Garry's Mod\", 'Killing Floor Mod Defence Alliance 2', 'Magicka', 'Magicka Vietnam', 'Natural Selection 2', 'Psychonauts Demo', 'Sanctum', 'Sanctum 2', 'Serious Sam 3 BFE', 'Skullgirls Endless Beta', 'Skyrim High Resolution Texture Pack', 'Grand Theft Auto V', 'Insurgency', 'Left 4 Dead 2', 'METAL GEAR SOLID V THE PHANTOM PAIN', 'S.T.A.L.K.E.R. Shadow of Chernobyl', 'S.T.A.L.K.E.R. Call of Pripyat', 'Saints Row The Third', 'Far Cry 3', 'S.T.A.L.K.E.R. Clear Sky', 'Rocket League', \"Assassin's Creed II\", 'Far Cry 4', 'Prototype', 'Space Pirates and Zombies', 'Dying Light', 'Just Cause 2', \"Mirror's Edge\"]\n"
          ]
        }
      ]
    },
    {
      "cell_type": "markdown",
      "metadata": {
        "id": "deUIFWjRe-3G"
      },
      "source": [
        "---\n",
        "### Exercise 5 - print the counts of the first 10 titles in the list\n",
        "\n",
        "Write a function which will:\n",
        "* loop through the first 10 items in the titles list\n",
        "* for each item print the number of times that title appears in the list\n"
      ]
    },
    {
      "cell_type": "code",
      "metadata": {
        "id": "b9TrHQ9hfoIU",
        "colab": {
          "base_uri": "https://localhost:8080/"
        },
        "outputId": "6109ca34-a0a9-4db6-f180-48399f9142dd"
      },
      "source": [
        "def print_count_of_first_ten():\n",
        "  first_10 = []\n",
        "  for item in titles[:10]:\n",
        "    first_10.append(item)\n",
        "  print(first_10)\n",
        "  counts = []\n",
        "  for n in first_10:\n",
        "    print(titles.count(n))\n",
        "\n",
        "\n",
        "print_count_of_first_ten()"
      ],
      "execution_count": null,
      "outputs": [
        {
          "output_type": "stream",
          "name": "stdout",
          "text": [
            "['The Elder Scrolls V Skyrim', 'Spore', 'Fallout New Vegas', 'Left 4 Dead 2', 'HuniePop', 'Path of Exile', 'Poly Bridge', 'Left 4 Dead', 'Team Fortress 2', 'Tomb Raider']\n",
            "717\n",
            "67\n",
            "337\n",
            "951\n",
            "22\n",
            "339\n",
            "12\n",
            "281\n",
            "2323\n",
            "257\n"
          ]
        }
      ]
    },
    {
      "cell_type": "markdown",
      "metadata": {
        "id": "zm2VI5RmfoSy"
      },
      "source": [
        "---\n",
        "### Project - work as a team\n",
        "\n",
        "The users list has the ids of all the users who have purchased STEAM games.\n",
        "\n",
        "Write a function that will, for the first 100 users:\n",
        "* count how many games have been purchased by each user.  \n",
        "* calculate the percentage of all purchases made by each user\n",
        "* calculate the percentage of all purchases made by these 100 users altogether\n",
        "* find the id of the user who has purchased the most games of these 100 users \n",
        "* calculate the average number of games purchased by a user from the 100 \n",
        "* print this information, printing each unique user just once  \n",
        "Do the same with the last 100 users  \n",
        "\n",
        "Divide up the tasks and each write one part, then try to get them all to work together."
      ]
    },
    {
      "cell_type": "code",
      "metadata": {
        "id": "Fksgpj9JgWDs",
        "colab": {
          "base_uri": "https://localhost:8080/"
        },
        "outputId": "f079a414-1fdb-4246-c09b-ac01118e366a"
      },
      "source": [
        "def print_100_users(users):\n",
        "  user_id = []\n",
        "  for n in users:\n",
        "    user_id.append(n)\n",
        "  user_id.sort()\n",
        "  \n",
        "  pos = 0\n",
        "  for x in user_id:\n",
        "    user_id.count(x)\n",
        "    while user_id.count(x) > 1:\n",
        "      user_id.remove(x)\n",
        "    #if user_id.count(x) == 1:\n",
        "      #if pos <=  100:\n",
        "        #pos += 1\n",
        "      #else:\n",
        "        #break\n",
        "  unique_users = user_id[:100]\n",
        "  for i in unique_users:\n",
        "    print(f\"user: {i}, has purchased {users.count(i)} games, {(users.count(i)/len(users)) * 100} % of total purchases\")\n",
        "  total = 0\n",
        "  for j in unique_users:\n",
        "    total = total + users.count(j)\n",
        "  print(f\"Total of games perchased by this sample is {total}, {(total/len(users)) * 100} % of total purchases\")\n",
        "  highest = 0 \n",
        "  highest_user = 0\n",
        "  for y in unique_users:\n",
        "    current = users.count(y)\n",
        "    if current > highest:\n",
        "      highest = current\n",
        "      highest_user = y\n",
        "  print(f\"User with most purchases is {highest_user} {highest}\")\n",
        "  average = total/len(unique_users)\n",
        "  print(f\"Average number of games: {average}\")\n",
        "  \n",
        "\n",
        "\n",
        "print_100_users(users)"
      ],
      "execution_count": 3,
      "outputs": [
        {
          "output_type": "stream",
          "name": "stdout",
          "text": [
            "user: 5250, has purchased 21 games, 0.016214838893993562 % of total purchases\n",
            "user: 76767, has purchased 36 games, 0.027796866675417534 % of total purchases\n",
            "user: 86540, has purchased 82 games, 0.06331508520511771 % of total purchases\n",
            "user: 103360, has purchased 10 games, 0.0077213518542826485 % of total purchases\n",
            "user: 144736, has purchased 8 games, 0.006177081483426118 % of total purchases\n",
            "user: 181212, has purchased 12 games, 0.009265622225139178 % of total purchases\n",
            "user: 229911, has purchased 27 games, 0.020847650006563148 % of total purchases\n",
            "user: 298950, has purchased 259 games, 0.1999830130259206 % of total purchases\n",
            "user: 299153, has purchased 14 games, 0.010809892595995707 % of total purchases\n",
            "user: 381543, has purchased 10 games, 0.0077213518542826485 % of total purchases\n",
            "user: 547685, has purchased 25 games, 0.019303379635706622 % of total purchases\n",
            "user: 554278, has purchased 28 games, 0.021619785191991415 % of total purchases\n",
            "user: 561758, has purchased 148 games, 0.1142760074433832 % of total purchases\n",
            "user: 577614, has purchased 8 games, 0.006177081483426118 % of total purchases\n",
            "user: 604988, has purchased 8 games, 0.006177081483426118 % of total purchases\n",
            "user: 622362, has purchased 10 games, 0.0077213518542826485 % of total purchases\n",
            "user: 635733, has purchased 8 games, 0.006177081483426118 % of total purchases\n",
            "user: 683019, has purchased 13 games, 0.010037757410567442 % of total purchases\n",
            "user: 714122, has purchased 10 games, 0.0077213518542826485 % of total purchases\n",
            "user: 748719, has purchased 30 games, 0.02316405556284794 % of total purchases\n",
            "user: 835015, has purchased 8 games, 0.006177081483426118 % of total purchases\n",
            "user: 861238, has purchased 9 games, 0.006949216668854384 % of total purchases\n",
            "user: 871990, has purchased 12 games, 0.009265622225139178 % of total purchases\n",
            "user: 937567, has purchased 17 games, 0.0131262981522805 % of total purchases\n",
            "user: 948368, has purchased 14 games, 0.010809892595995707 % of total purchases\n",
            "user: 975449, has purchased 378 games, 0.2918671000918841 % of total purchases\n",
            "user: 976129, has purchased 8 games, 0.006177081483426118 % of total purchases\n",
            "user: 983600, has purchased 12 games, 0.009265622225139178 % of total purchases\n",
            "user: 994489, has purchased 23 games, 0.017759109264850092 % of total purchases\n",
            "user: 1006880, has purchased 8 games, 0.006177081483426118 % of total purchases\n",
            "user: 1024319, has purchased 8 games, 0.006177081483426118 % of total purchases\n",
            "user: 1072465, has purchased 15 games, 0.01158202778142397 % of total purchases\n",
            "user: 1129452, has purchased 22 games, 0.016986974079421825 % of total purchases\n",
            "user: 1135775, has purchased 8 games, 0.006177081483426118 % of total purchases\n",
            "user: 1268792, has purchased 8 games, 0.006177081483426118 % of total purchases\n",
            "user: 1364546, has purchased 9 games, 0.006949216668854384 % of total purchases\n",
            "user: 1423371, has purchased 9 games, 0.006949216668854384 % of total purchases\n",
            "user: 1601069, has purchased 8 games, 0.006177081483426118 % of total purchases\n",
            "user: 1601773, has purchased 10 games, 0.0077213518542826485 % of total purchases\n",
            "user: 1603625, has purchased 8 games, 0.006177081483426118 % of total purchases\n",
            "user: 1612666, has purchased 28 games, 0.021619785191991415 % of total purchases\n",
            "user: 1665511, has purchased 8 games, 0.006177081483426118 % of total purchases\n",
            "user: 1699101, has purchased 8 games, 0.006177081483426118 % of total purchases\n",
            "user: 1713646, has purchased 12 games, 0.009265622225139178 % of total purchases\n",
            "user: 1834453, has purchased 12 games, 0.009265622225139178 % of total purchases\n",
            "user: 1851828, has purchased 10 games, 0.0077213518542826485 % of total purchases\n",
            "user: 1936551, has purchased 152 games, 0.11736454818509624 % of total purchases\n",
            "user: 1950243, has purchased 77 games, 0.05945440927797639 % of total purchases\n",
            "user: 1971801, has purchased 10 games, 0.0077213518542826485 % of total purchases\n",
            "user: 2039434, has purchased 16 games, 0.012354162966852236 % of total purchases\n",
            "user: 2083767, has purchased 61 games, 0.04710024631112415 % of total purchases\n",
            "user: 2087859, has purchased 14 games, 0.010809892595995707 % of total purchases\n",
            "user: 2110581, has purchased 35 games, 0.027024731489989268 % of total purchases\n",
            "user: 2184507, has purchased 12 games, 0.009265622225139178 % of total purchases\n",
            "user: 2259650, has purchased 203 games, 0.15674344264193776 % of total purchases\n",
            "user: 2382003, has purchased 8 games, 0.006177081483426118 % of total purchases\n",
            "user: 2428602, has purchased 15 games, 0.01158202778142397 % of total purchases\n",
            "user: 2531540, has purchased 29 games, 0.022391920377419678 % of total purchases\n",
            "user: 2613043, has purchased 8 games, 0.006177081483426118 % of total purchases\n",
            "user: 2643609, has purchased 49 games, 0.03783462408598497 % of total purchases\n",
            "user: 2753525, has purchased 118 games, 0.09111195188053525 % of total purchases\n",
            "user: 3001740, has purchased 10 games, 0.0077213518542826485 % of total purchases\n",
            "user: 3054990, has purchased 8 games, 0.006177081483426118 % of total purchases\n",
            "user: 3238976, has purchased 8 games, 0.006177081483426118 % of total purchases\n",
            "user: 3244702, has purchased 12 games, 0.009265622225139178 % of total purchases\n",
            "user: 3249166, has purchased 8 games, 0.006177081483426118 % of total purchases\n",
            "user: 3347312, has purchased 8 games, 0.006177081483426118 % of total purchases\n",
            "user: 3372923, has purchased 10 games, 0.0077213518542826485 % of total purchases\n",
            "user: 3449240, has purchased 98 games, 0.07566924817196995 % of total purchases\n",
            "user: 3450426, has purchased 8 games, 0.006177081483426118 % of total purchases\n",
            "user: 3498717, has purchased 12 games, 0.009265622225139178 % of total purchases\n",
            "user: 3527485, has purchased 23 games, 0.017759109264850092 % of total purchases\n",
            "user: 3614782, has purchased 14 games, 0.010809892595995707 % of total purchases\n",
            "user: 3663009, has purchased 12 games, 0.009265622225139178 % of total purchases\n",
            "user: 3674653, has purchased 8 games, 0.006177081483426118 % of total purchases\n",
            "user: 3747293, has purchased 12 games, 0.009265622225139178 % of total purchases\n",
            "user: 3783783, has purchased 27 games, 0.020847650006563148 % of total purchases\n",
            "user: 3897969, has purchased 8 games, 0.006177081483426118 % of total purchases\n",
            "user: 3974133, has purchased 8 games, 0.006177081483426118 % of total purchases\n",
            "user: 3979930, has purchased 27 games, 0.020847650006563148 % of total purchases\n",
            "user: 4064412, has purchased 11 games, 0.008493487039710913 % of total purchases\n",
            "user: 4156158, has purchased 8 games, 0.006177081483426118 % of total purchases\n",
            "user: 4318904, has purchased 8 games, 0.006177081483426118 % of total purchases\n",
            "user: 4325465, has purchased 8 games, 0.006177081483426118 % of total purchases\n",
            "user: 4485779, has purchased 8 games, 0.006177081483426118 % of total purchases\n",
            "user: 4595423, has purchased 27 games, 0.020847650006563148 % of total purchases\n",
            "user: 4603800, has purchased 10 games, 0.0077213518542826485 % of total purchases\n",
            "user: 4677023, has purchased 8 games, 0.006177081483426118 % of total purchases\n",
            "user: 4812175, has purchased 8 games, 0.006177081483426118 % of total purchases\n",
            "user: 4824107, has purchased 34 games, 0.026252596304561 % of total purchases\n",
            "user: 4834220, has purchased 33 games, 0.025480461119132738 % of total purchases\n",
            "user: 4877411, has purchased 12 games, 0.009265622225139178 % of total purchases\n",
            "user: 4897767, has purchased 8 games, 0.006177081483426118 % of total purchases\n",
            "user: 4986667, has purchased 8 games, 0.006177081483426118 % of total purchases\n",
            "user: 5217749, has purchased 12 games, 0.009265622225139178 % of total purchases\n",
            "user: 5220782, has purchased 16 games, 0.012354162966852236 % of total purchases\n",
            "user: 5232588, has purchased 8 games, 0.006177081483426118 % of total purchases\n",
            "user: 5270060, has purchased 18 games, 0.013898433337708767 % of total purchases\n",
            "user: 5307960, has purchased 8 games, 0.006177081483426118 % of total purchases\n",
            "user: 5314150, has purchased 7 games, 0.005404946297997854 % of total purchases\n",
            "Total of games perchased by this sample is 2827, 2.1828261692057045 % of total purchases\n",
            "User with most purchases is 975449 378\n",
            "Average number of games: 28.27\n"
          ]
        }
      ]
    }
  ]
}