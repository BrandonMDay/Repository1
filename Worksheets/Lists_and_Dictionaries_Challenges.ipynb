{
  "nbformat": 4,
  "nbformat_minor": 0,
  "metadata": {
    "colab": {
      "name": "Copy of Lists and Dictionaries Challenges.ipynb",
      "provenance": [],
      "collapsed_sections": [],
      "include_colab_link": true
    },
    "kernelspec": {
      "name": "python3",
      "display_name": "Python 3"
    },
    "language_info": {
      "name": "python"
    }
  },
  "cells": [
    {
      "cell_type": "markdown",
      "metadata": {
        "id": "view-in-github",
        "colab_type": "text"
      },
      "source": [
        "<a href=\"https://colab.research.google.com/github/BrandonMDay/Repository1/blob/main/Lists_and_Dictionaries_Challenges.ipynb\" target=\"_parent\"><img src=\"https://colab.research.google.com/assets/colab-badge.svg\" alt=\"Open In Colab\"/></a>"
      ]
    },
    {
      "cell_type": "markdown",
      "metadata": {
        "id": "nEJLJX3J9B2k"
      },
      "source": [
        "# Some challenges to help you become more confident with using Lists, Tuples and Dictionaries\n",
        "\n",
        "---\n",
        "\n"
      ]
    },
    {
      "cell_type": "markdown",
      "metadata": {
        "id": "JvV6htgh9Nc1"
      },
      "source": [
        "### Exercise 1 - extending a list\n",
        "\n",
        "There are three ways to extend a list in Python:  \n",
        "*  use `list_name.append(item)`, `list_name.insert(item)`\n",
        "*  concatenate two lists using the + operator (e.g. new_list = list1 + list2)\n",
        "*  use `list1_name.extend(list2_name)`\n",
        "\n",
        "The last method allows us to add all the `list2` items onto `list1` and for the new, extended list to now be `list1`.  `list2` will always be added to the end of `list1`.  \n",
        "\n",
        "If the objective is to add list2 before list1 then use `list2.extend(list1)`\n",
        "\n",
        "Write a function which will:  \n",
        "*  create a list of **years** containing the years 1960, 1970, 1980, 1990, 2000  \n",
        "*  print the list of years  \n",
        "*  calculate how long ago each year was and print the year and how long ago it was (e.g. 1990 was 30 years ago)  *(Hint:  use the datetime library to get the current year)*   \n",
        "*  create a second list, **years2** containing the years 2010 and 2020, extend `years` to include these later years\n",
        "*  create a third list, **years3** containing the years 1930, 1940 and 1950 and extend the list to include all the years between 1930 and 2020\n",
        "*  print the final list\n",
        "\n",
        "Expected output:  \n",
        "[1960, 1970, 1980, 1990]  \n",
        "1960 was 61 years ago  \n",
        "1970 was 51 years ago  \n",
        "1980 was 41 years ago  \n",
        "1990 was 31 years ago  \n",
        "2000 was 21 years ago  \n",
        "[1930, 1940, 1950, 1960, 1970, 1980, 1990, 2000, 2010, 2020] "
      ]
    },
    {
      "cell_type": "code",
      "metadata": {
        "id": "QAyTVqoO8-08",
        "colab": {
          "base_uri": "https://localhost:8080/"
        },
        "outputId": "75f03971-f829-4819-f048-e8adc106f3d0"
      },
      "source": [
        "import datetime\n",
        "def years_list():\n",
        "  years = [1960, 1970, 1980, 1990, 2000]\n",
        "  print(years)\n",
        "  now = datetime.datetime.now()\n",
        "  this_year = now.strftime(\"%Y\")\n",
        "  for x in years:\n",
        "    gap = int(this_year) - x\n",
        "    print(f\"{x} was {gap} years ago\")\n",
        "  years2 = [2010, 2020]\n",
        "  years3 = [1930, 1940, 1950]\n",
        "  full_years = years3 + years + years2\n",
        "  print(full_years)\n",
        "\n",
        "\n",
        "\n",
        "years_list()"
      ],
      "execution_count": null,
      "outputs": [
        {
          "output_type": "stream",
          "name": "stdout",
          "text": [
            "[1960, 1970, 1980, 1990, 2000]\n",
            "1960 was 62 years ago\n",
            "1970 was 52 years ago\n",
            "1980 was 42 years ago\n",
            "1990 was 32 years ago\n",
            "2000 was 22 years ago\n",
            "[1930, 1940, 1950, 1960, 1970, 1980, 1990, 2000, 2010, 2020]\n"
          ]
        }
      ]
    },
    {
      "cell_type": "markdown",
      "metadata": {
        "id": "S5iPicFzBzOW"
      },
      "source": [
        "---\n",
        "### Exercise 2 - creating a dictionary from a tuple and three lists\n",
        "\n",
        "Write a function which will create a list of dictionary items using the values in a tuple as the dictionary keys and the values in three corresponding lists as the dictionary values.\n",
        "\n",
        "*  loop through the status items in the tuple called task_status\n",
        "*  for each status, loop through the list with the same name (*Hint:  you can use eval(status) to access the list with the matching name  e.g. for task in eval(status)* )\n",
        "*  each time round this second loop, create a dictionary object with the  key:value pair {status : task}\n",
        "*  add each new dictionary to a list called **project_board** that was created as an empty list before the loops  \n",
        "*  print the project_board list\n",
        "\n",
        "Expected output:  \n",
        "\n",
        "[{'assigned': 'task1'}, {'assigned': 'task2'}, {'assigned': 'task3'}, {'inprogress': 'task4'}, {'inprogress': 'task5'}, {'inprogress': 'task6'}, {'completed': 'task7'}, {'completed': 'task8'}, {'completed': 'task9'}] \n",
        "\n"
      ]
    },
    {
      "cell_type": "code",
      "metadata": {
        "id": "KXYOSHY-C7m4",
        "colab": {
          "base_uri": "https://localhost:8080/"
        },
        "outputId": "6e47b9f1-f27f-4d75-bf62-f4fea913db01"
      },
      "source": [
        "def create_project_board():\n",
        "  task_status = (\"assigned\", \"inprogress\", \"completed\")\n",
        "  assigned = ['task1','task2','task3']\n",
        "  inprogress = ['task4','task5','task6']\n",
        "  completed = ['task7','task8','task9']\n",
        "  #  add your code below here\n",
        "  project_board = []\n",
        "  status_dict = {}\n",
        "  for x in task_status:\n",
        "    for y in eval(x):\n",
        "      status_dict[x] = y\n",
        "      project_board.append({x:y})\n",
        "\n",
        "    \n",
        "\n",
        "\n",
        "\n",
        "  \n",
        "  print(project_board)\n",
        "\n",
        "\n",
        "\n",
        "\n",
        "create_project_board()\n"
      ],
      "execution_count": null,
      "outputs": [
        {
          "output_type": "stream",
          "name": "stdout",
          "text": [
            "[{'assigned': 'task1'}, {'assigned': 'task2'}, {'assigned': 'task3'}, {'inprogress': 'task4'}, {'inprogress': 'task5'}, {'inprogress': 'task6'}, {'completed': 'task7'}, {'completed': 'task8'}, {'completed': 'task9'}]\n"
          ]
        }
      ]
    },
    {
      "cell_type": "markdown",
      "metadata": {
        "id": "M1BuTu9p19Ma"
      },
      "source": [
        "---\n",
        "### Exercise 3 - names and heights\n",
        "\n",
        "Write a function which will allow a user to enter the names and heights of a set of people and add each set of information as a record (dictionary) to a list. The function will stop collecting names and heights when the user enters \"STOP\" as the name.\n",
        "\n",
        "Then, the function will:  \n",
        "\n",
        "*   produce a list of names in order of the shortest person to the tallest\n",
        "*   calculate the name of the tallest person\n",
        "*   calculate the name of the shortest person\n",
        "*   calculate the average height\n",
        "*   calculate the name of the person who is closest to the average height\n",
        "\n",
        "\n",
        "\n",
        "\n"
      ]
    },
    {
      "cell_type": "code",
      "metadata": {
        "id": "reuyww3e18uv",
        "colab": {
          "base_uri": "https://localhost:8080/"
        },
        "outputId": "c0e0abd9-dcbf-4abd-c17d-57163d4f8430"
      },
      "source": [
        "def names_heights():\n",
        "  \n",
        "  names = []\n",
        "  heights = []\n",
        "\n",
        "  n = \"x\"\n",
        "  h = 0\n",
        "  while n != \"stop\":\n",
        "    n = input(\"Enter name: \")\n",
        "    \n",
        "    if n != \"stop\":\n",
        "      names.append(n)\n",
        "      h = int(input(\"Enter their height: \"))\n",
        "      heights.append(h)\n",
        "    \n",
        "  info = dict(zip(names, heights))\n",
        "  sorted_h = sorted(info.items(), key = lambda x: x[1])\n",
        "  print(f\"List from shortest to tallest: {sorted_h}\")\n",
        "  print(f\"Tallest person is: {sorted_h[-1]}\")\n",
        "  print(f\"Shortest person is: {sorted_h[0]}\")\n",
        "  total_height = 0\n",
        "  for num in heights:\n",
        "    total_height = total_height + num\n",
        "  average_height = total_height / len(heights)\n",
        "  print(f\"Average height is: {average_height}\")\n",
        "  differences = []\n",
        "  for i in heights:\n",
        "    diff = abs(i - average_height)\n",
        "    differences.append(diff)\n",
        "  sorted_diffs = differences.sort()\n",
        "  closest = differences[0] + average_height\n",
        "  for key, val in info.items():\n",
        "    if val == closest:\n",
        "      print(key)\n",
        " \n",
        "  #print(f\"Height closest to average is: {closest_height}\")\n",
        " \n",
        "\n",
        "\n",
        "names_heights()\n",
        "    "
      ],
      "execution_count": null,
      "outputs": [
        {
          "output_type": "stream",
          "name": "stdout",
          "text": [
            "Enter name: peikrnjg\n",
            "Enter their height: 180\n",
            "Enter name: reikgep\n",
            "Enter their height: 181\n",
            "Enter name: ergm\n",
            "Enter their height: 175\n",
            "Enter name: ergm\n",
            "Enter their height: 160\n",
            "Enter name: erg\n",
            "Enter their height: 164\n",
            "Enter name: stop\n",
            "List from shortest to tallest: [('ergm', 160), ('erg', 164), ('peikrnjg', 180), ('reikgep', 181)]\n",
            "Tallest person is: ('reikgep', 181)\n",
            "Shortest person is: ('ergm', 160)\n",
            "Average height is: 172.0\n"
          ]
        }
      ]
    }
  ]
}
