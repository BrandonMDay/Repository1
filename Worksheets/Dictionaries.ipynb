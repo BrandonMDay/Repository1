{
  "nbformat": 4,
  "nbformat_minor": 0,
  "metadata": {
    "colab": {
      "name": "Copy of Worksheet - Dictionaries.ipynb",
      "provenance": [],
      "collapsed_sections": [],
      "include_colab_link": true
    },
    "kernelspec": {
      "name": "python3",
      "display_name": "Python 3"
    },
    "language_info": {
      "name": "python"
    }
  },
  "cells": [
    {
      "cell_type": "markdown",
      "metadata": {
        "id": "view-in-github",
        "colab_type": "text"
      },
      "source": [
        "<a href=\"https://colab.research.google.com/github/BrandonMDay/Repository1/blob/main/Copy_of_Worksheet_Dictionaries.ipynb\" target=\"_parent\"><img src=\"https://colab.research.google.com/assets/colab-badge.svg\" alt=\"Open In Colab\"/></a>"
      ]
    },
    {
      "cell_type": "markdown",
      "metadata": {
        "id": "AiiF1h2X4PHP"
      },
      "source": [
        "# Dictionaries\n",
        "\n",
        "---\n",
        "\n",
        "A **dictionary** is a collection of dissimilar data stored together in one *record*. Each item of data has a  (or key) that describes its paired value.  \n",
        "\n",
        "Create a dictionary object by declaring the set of keys and values, e.g.:\n",
        "\n",
        "```\n",
        "   transport = {\n",
        "       \"type\":\"bus\",\n",
        "       \"numPassengers\":72,\n",
        "       \"colour\":\"blue\",\n",
        "       \"fuel\":\"diesel\"\n",
        "   }\n",
        "```\n",
        "\n",
        "To access a value in a dictionary, use its key:  \n",
        "\n",
        "```\n",
        "transport[\"type\"] = \"coach\"\n",
        "transport_type = transport[\"type\"]\n",
        "transport_colour = transport[\"colour\"]\n",
        "transport[\"fuel\"] = petrol\n",
        "```\n",
        "\n",
        "To add a new key/value pair to a dictionary, simply assign a value to a new key:  \n",
        "```\n",
        "transport[\"seats\"] = 54\n",
        "```\n",
        "\n",
        "The transport dictionary will now look like this:  \n",
        "```\n",
        "   transport = {\n",
        "       \"type\":\"bus\",\n",
        "       \"numPassengers\":72,\n",
        "       \"colour\":\"blue\",\n",
        "       \"fuel\":\"diesel\",\n",
        "       \"seats\":54\n",
        "   }\n",
        "```\n",
        "\n"
      ]
    },
    {
      "cell_type": "markdown",
      "metadata": {
        "id": "1uZ5kNWB6CqK"
      },
      "source": [
        "---\n",
        "### Exercise 1 - print dictionary\n",
        "\n",
        "Write a function which will:  \n",
        "\n",
        "*  create an empty dictionary for a person (name, age and postcode, with values \"\", 0 and \"\")\n",
        "*  ask the user for name, age and postcode and assign the values to the correct keys in the dictionary  \n",
        "*  print the dictionary\n",
        "\n",
        "Test input:  \n",
        "Jack Jones  \n",
        "16  \n",
        "AB5 3DF  \n",
        "\n",
        "Expected output:  \n",
        "```{'name':'Jack Jones', 'age':16, 'postcode':'AB5 3DF'}```"
      ]
    },
    {
      "cell_type": "code",
      "metadata": {
        "id": "Ac7VQTj94Mrc",
        "colab": {
          "base_uri": "https://localhost:8080/"
        },
        "outputId": "6211f418-517d-4482-807f-d7c029c0928b"
      },
      "source": [
        "def dictionary_1():\n",
        "  user = {\n",
        "      \"name\":\"\",\n",
        "      \"age\": 0,\n",
        "      \"postcode\":\"\"\n",
        "  }\n",
        "  user[\"name\"] = input(\"Enter name \")\n",
        "  user[\"age\"] = input(\"Enter age \")\n",
        "  user[\"postcode\"] = input(\"Enter postcode \")\n",
        "  return user\n",
        "\n",
        "print(dictionary_1())"
      ],
      "execution_count": null,
      "outputs": [
        {
          "output_type": "stream",
          "name": "stdout",
          "text": [
            "Enter name Jack Jones\n",
            "Enter age 16\n",
            "Enter postcode AB5 3DF\n",
            "{'name': 'Jack Jones', 'age': '16', 'postcode': 'AB5 3DF'}\n"
          ]
        }
      ]
    },
    {
      "cell_type": "markdown",
      "metadata": {
        "id": "0OtNqNKv7WKm"
      },
      "source": [
        "---\n",
        "### Exercise 2 - create a dictionary\n",
        "\n",
        "Write a function that will create two dictionaries,without values:  \n",
        "\n",
        "1.  person (with keys firstname, surname, birthdate, postcode)  \n",
        "2.  car (with key/value pairs as follows:  make - Vauxhall, model - Corsa, engineSize - 1199, fuelType - unleaded, num_doors - 4)  \n",
        "\n",
        "*   ask the user to enter the values for the person dictionary  \n",
        "*   print, on one line, the person's name from the person dictionary and the make of the car from the car dictionary.\n",
        "\n",
        "Test input:  \n",
        "Jack  \n",
        "Jones  \n",
        "2005/02/02    \n",
        "AB5 3DF  \n",
        "\n",
        "Expected output:  \n",
        "Jack Jones Vauxhall"
      ]
    },
    {
      "cell_type": "code",
      "metadata": {
        "id": "ZyqhaBCC-GdI",
        "colab": {
          "base_uri": "https://localhost:8080/"
        },
        "outputId": "2476a10d-31f4-4c3b-b4e9-a66a8582ca01"
      },
      "source": [
        "def dictionary_2():\n",
        "  person = {\n",
        "      \"first name\":\"\",\n",
        "      \"surname\":\"\",\n",
        "      \"birthdate\":\"\",\n",
        "      \"postcode\":\"\"\n",
        "  }\n",
        "  car = {\n",
        "      \"make\":\"Vauxhall\",\n",
        "      \"model\":\"Corsa\",\n",
        "      \"engineSize\":1199,\n",
        "      \"fuelType\":\"unleaded\",\n",
        "      \"num_doors\":4\n",
        "  }\n",
        "  person[\"firstname\"] = input(\"Enter Firstname \")\n",
        "  person[\"surname\"] = input(\"Enter Surname \")\n",
        "  person[\"birthdate\"] = input(\"Enter Birthdate \")\n",
        "  person[\"postcode\"] = input(\"Enter Postcode \")\n",
        "  print(person[\"firstname\"] + \" \" + person[\"surname\"] + \" \" + car[\"make\"])\n",
        "\n",
        "\n",
        "dictionary_2()"
      ],
      "execution_count": null,
      "outputs": [
        {
          "output_type": "stream",
          "name": "stdout",
          "text": [
            "Enter Firstname Jack\n",
            "Enter Surname Jones\n",
            "Enter Birthdate 2005/02/02\n",
            "Enter Postcode AB5 3DF\n",
            "Jack Jones Vauxhall\n"
          ]
        }
      ]
    },
    {
      "cell_type": "markdown",
      "metadata": {
        "id": "gYuuOUYw-G4I"
      },
      "source": [
        "---\n",
        "### Exercise 3 - check dictionary values\n",
        "\n",
        "Write a new function which will:\n",
        "\n",
        "*  set up the same two dictionaries as in Exercise 2  \n",
        "*  ask the user to enter the details to complete the person record  \n",
        "*  calculate the person's age  \n",
        "*  if the person is under 17 then print a message to say that they can't buy a car as they are too young to drive\n",
        "*  else if the person is under 25 then print a message to say that an engine size under 1200 is recommended  \n",
        "*  ask the user to enter the make of car that the person is looking for  \n",
        "*  if the user enters the same make as that stored in the car record, then print a message to say that you have one car of that make in stock and print all the details of the car that you have the record for\n",
        "*  else (if the user enters any other car make) then print a message to say sorry that you don't have any cars of that make in stock\n",
        "*  print a message to say that the user can get more details for stockist in the <user's postcode> area if they call 01234567890\n",
        "*  print a message to say \"Thank you <user's name> for using our site\"  \n",
        "\n",
        "Test input:  \n",
        "Jack  \n",
        "Jones  \n",
        "2005/02/02  \n",
        "AB5 3DF  \n",
        "Vauxhall  \n",
        "\n",
        "Expected output:  \n",
        "You are too young to drive\n",
        "\n",
        "Test input:  \n",
        "John  \n",
        "Jones  \n",
        "2003/02/02  \n",
        "AB5 3DF  \n",
        "Vauxhall \n",
        "\n",
        "Expected output:  \n",
        "An engine size under 1200 is recommended  \n",
        "We have one Vauxhall in stock, details:  \n",
        "Make - Vauxhall    \n",
        "Model - Corsa    \n",
        "Engine size - 1199  \n",
        "Fuel type - unleaded   \n",
        "Number of doors - 4  \n",
        "You can get more details of stockists near AB5 3DF on 01234567890  \n",
        "Thank you John Jones for using our site.     \n",
        "\n",
        "Test input:  \n",
        "John  \n",
        "Jones  \n",
        "2003/02/02  \n",
        "AB5 3DF  \n",
        "Ford  \n",
        "\n",
        "Expected output:  \n",
        "An engine size under 1200 is recommended  \n",
        "Sorry, we don't have any of that make in stock  \n"
      ]
    },
    {
      "cell_type": "code",
      "metadata": {
        "id": "Wp9Il2JG_hDh",
        "colab": {
          "base_uri": "https://localhost:8080/"
        },
        "outputId": "1de295b9-9f19-4fc5-83f2-f40f497da8c4"
      },
      "source": [
        "from datetime import datetime\n",
        "def dictionary_3():\n",
        "  person = {\n",
        "      \"first name\":\"\",\n",
        "      \"surname\":\"\",\n",
        "      \"birthdate\":\"\",\n",
        "      \"postcode\":\"\"\n",
        "  }\n",
        "  car = {\n",
        "      \"make\":\"Vauxhall\",\n",
        "      \"model\":\"Corsa\",\n",
        "      \"engineSize\":1199,\n",
        "      \"fuelType\":\"unleaded\",\n",
        "      \"num_doors\":4\n",
        "  }\n",
        "  person[\"firstname\"] = input(\"Enter Firstname \")\n",
        "  person[\"surname\"] = input(\"Enter Surname \")\n",
        "  person[\"birthdate\"] = input(\"Enter Birthdate \")\n",
        "  person[\"postcode\"] = input(\"Enter Postcode \")\n",
        "  age = (datetime.today() - datetime.strptime(person['birthdate'], '%Y/%m/%d')).days//365\n",
        "  #print(age)\n",
        "  if age < 17:\n",
        "    print(\"You are too young to drive\")\n",
        "  elif age > 17 and age < 25:\n",
        "    print(\"An engine size under 1200 is recomended\")\n",
        "    pref = input(\"Enter make of car you would like \")\n",
        "    if pref == car[\"make\"]:\n",
        "      print(f\"We have 1 {car['make']} in stock\")\n",
        "      print(car)\n",
        "      print(f\"For more info near {person['postcode']} call 01234567890\")\n",
        "      print(f\"Thank you {person['first name']} {person['surname']} for using our service\")\n",
        "    if pref != car[\"make\"]:\n",
        "      print(\"None in stock\")\n",
        "  else:\n",
        "    print(\"No limitations recomended\")\n",
        "    print(f\"For more info near {person['postcode']} call 01234567890\")\n",
        "    print(f\"Thank you {person['first name']} {person['surname']} for using our service\")\n",
        "\n",
        "\n",
        "dictionary_3()"
      ],
      "execution_count": 11,
      "outputs": [
        {
          "output_type": "stream",
          "name": "stdout",
          "text": [
            "Enter Firstname jack\n",
            "Enter Surname jones\n",
            "Enter Birthdate 1995/02/02\n",
            "Enter Postcode AB5 3DF\n",
            "No limitations recomended\n",
            "For more info near AB5 3DF call 01234567890\n",
            "Thank you  jones for using our service\n"
          ]
        }
      ]
    },
    {
      "cell_type": "markdown",
      "metadata": {
        "id": "I6dUiRwn7Gkg"
      },
      "source": [
        "---\n",
        "### Exercise 4 - print keys and values\n",
        "\n",
        "Two dictionaries have been created below.  You can print a list of the dictionary's keys using `dictionary_name.keys()` and the values using `dictionary_name.values()`\n",
        "\n",
        "Write a function which will accept a dictionary as a parameter and will:  \n",
        "*  print the dictionary keys as a list   \n",
        "*  print the dictionary values as a list  \n",
        "\n",
        "*Hint*:  you will need to cast the keys as a list (`list(dictionary_name.keys()`)  and do the same for the values.\n",
        "\n",
        "**Expected Output**\n",
        "\n",
        "Input: English  \n",
        "Output: \n",
        "['Andy', 'Angela']  \n",
        "[95, 53]  \n",
        "\n",
        "Input: Maths  \n",
        "Output:  \n",
        "['Andy', 'Angela']  \n",
        "[58, 72] \n",
        " \n",
        "\n",
        "\n"
      ]
    },
    {
      "cell_type": "code",
      "metadata": {
        "id": "FApOckhJEsMs",
        "colab": {
          "base_uri": "https://localhost:8080/"
        },
        "outputId": "8838d29c-214a-49da-c644-c806f89fbe61"
      },
      "source": [
        "def display_dictionary(scores):\n",
        "  #  add your code below this line\n",
        "  print(scores.keys())\n",
        "  print(list(scores.values()))\n",
        "\n",
        "english_scores = {'Andy': 95, 'Angela': 53}\n",
        "maths_scores = {'Andy': 58, 'Angela': 72}\n",
        "display_dictionary(english_scores)\n",
        "display_dictionary(maths_scores)"
      ],
      "execution_count": 16,
      "outputs": [
        {
          "output_type": "stream",
          "name": "stdout",
          "text": [
            "dict_keys(['Andy', 'Angela'])\n",
            "[95, 53]\n",
            "dict_keys(['Andy', 'Angela'])\n",
            "[58, 72]\n"
          ]
        }
      ]
    },
    {
      "cell_type": "markdown",
      "metadata": {
        "id": "segSpkmBFSJl"
      },
      "source": [
        "---\n",
        "### Exercise 5 - add field\n",
        "\n",
        "Write a function which will:\n",
        "\n",
        "*  create a new dictionary called **science_scores** with values of 0 for both Andy and Angela\n",
        "*  update Andy's score for science to 73 and Angela's score to 73   \n",
        "*  create a new key/value pair by adding another learner to the `science_scores`  dictionary (George has a score of 55)    \n",
        "*  print the `science_scores` dictionary to check results  \n",
        "\n",
        "Expected Output\n",
        "\n",
        "{'Andy': 73, 'Angela': 73, 'George': 55}"
      ]
    },
    {
      "cell_type": "code",
      "metadata": {
        "id": "BL1JM-Z7Gttf",
        "colab": {
          "base_uri": "https://localhost:8080/"
        },
        "outputId": "68336f86-5fb7-419c-b34a-ab4146f5edc0"
      },
      "source": [
        "def dictionary_4():\n",
        "  science_scores = {\"Andy\":0, \"Angela\":0}\n",
        "  science_scores[\"Andy\"] = 73\n",
        "  science_scores[\"Angela\"] = 73\n",
        "  science_scores[\"George\"] = 55\n",
        "  print(science_scores)\n",
        "\n",
        "\n",
        "dictionary_4()"
      ],
      "execution_count": null,
      "outputs": [
        {
          "output_type": "stream",
          "name": "stdout",
          "text": [
            "{'Andy': 73, 'Angela': 73, 'George': 55}\n"
          ]
        }
      ]
    },
    {
      "cell_type": "markdown",
      "metadata": {
        "id": "_Vzv0zlHGt-C"
      },
      "source": [
        "---\n",
        "### Exercise 6 - loop through keys/value pairs\n",
        "\n",
        "Write a function which will use a *for* loop to print the each key/value pair in the science dictionary (recreate this dictionary in this function) \n",
        "\n",
        "*(Hint: you can iterate through the key/value pairs in the dictionary in the same way as you iterate through a loop (e.g. for record in dictionary) and print the record (which is the key) and its value)*\n",
        "\n",
        "Expected output:  \n",
        "\n",
        "Angela 72  \n",
        "Andy 72  \n",
        "George 55  "
      ]
    },
    {
      "cell_type": "code",
      "metadata": {
        "id": "JL40_-W-Hxnt",
        "colab": {
          "base_uri": "https://localhost:8080/"
        },
        "outputId": "0ed5e968-915f-41fb-ca70-d99206eb9d57"
      },
      "source": [
        "def dictionary_5():\n",
        "  pairs = []\n",
        "  science_scores = {\"Andy\":0, \"Angela\":0}\n",
        "  science_scores[\"Andy\"] = 73\n",
        "  science_scores[\"Angela\"] = 73\n",
        "  science_scores[\"George\"] = 55\n",
        "  for record in science_scores:\n",
        "    pairs.append(record)\n",
        "    print(pairs)\n",
        "\n",
        "dictionary_5()"
      ],
      "execution_count": null,
      "outputs": [
        {
          "output_type": "stream",
          "name": "stdout",
          "text": [
            "['Andy']\n",
            "['Andy', 'Angela']\n",
            "['Andy', 'Angela', 'George']\n"
          ]
        }
      ]
    },
    {
      "cell_type": "markdown",
      "metadata": {
        "id": "G9wamxzRJdrE"
      },
      "source": [
        "---\n",
        "### Exercise 7 - generate new dictionary  \n",
        "\n",
        "Write a functions which will:\n",
        "*  create a new dictionary where the keys are numbers between 1 and 15 (both included) and the values are square of keys\n",
        "*  print the dictionary\n",
        "\n",
        "Expected output:  \n",
        "{1: 1, 2: 4, 3: 9, 4: 16, 5: 25, 6: 36, 7: 49, 8: 64, 9: 81, 10: 100, 11: 121, 12: 144, 13: 169, 14: 196, 15: 225}"
      ]
    },
    {
      "cell_type": "code",
      "metadata": {
        "id": "1-LI-LVrJ--N",
        "colab": {
          "base_uri": "https://localhost:8080/"
        },
        "outputId": "0b7382bb-2026-446e-9538-7b3aee247fae"
      },
      "source": [
        "def dictionary_6():\n",
        "  nums = list(range(1, 16))\n",
        "  squares = []\n",
        "  for num in nums:\n",
        "    squares.append(num**2)\n",
        "  squares_dictionary = {}\n",
        "  for key in nums:\n",
        "    for value in squares:\n",
        "      squares_dictionary[key] = value\n",
        "      squares.remove(value)\n",
        "      break\n",
        "  print(squares_dictionary)\n",
        "\n",
        "\n",
        "dictionary_6()"
      ],
      "execution_count": null,
      "outputs": [
        {
          "output_type": "stream",
          "name": "stdout",
          "text": [
            "{1: 1, 2: 4, 3: 9, 4: 16, 5: 25, 6: 36, 7: 49, 8: 64, 9: 81, 10: 100, 11: 121, 12: 144, 13: 169, 14: 196, 15: 225}\n"
          ]
        }
      ]
    },
    {
      "cell_type": "markdown",
      "metadata": {
        "id": "t0y4mefwJ_jQ"
      },
      "source": [
        "---\n",
        "### Exercise 8 - colour dictionary  \n",
        "\n",
        "Write a function which will:  \n",
        "*  create a new dictionary record called colour_codes with the values 'red' - '#FF0000', 'green' - '#008000', 'black' - '#000000', 'white' - '#FFFFFF'\n",
        "*  add a new colour code:  'blue' - '#0000FF'    \n",
        "*  remove the colours black and white from the dictionary  \n",
        "\n",
        "*Hint:  there is a list of methods [here](https://www.w3schools.com/python/python_ref_dictionary.asp)*  "
      ]
    },
    {
      "cell_type": "code",
      "metadata": {
        "id": "yod1mUNOMeWg",
        "colab": {
          "base_uri": "https://localhost:8080/"
        },
        "outputId": "a9014a36-5788-4d67-e071-fa0b5f4c77e5"
      },
      "source": [
        "def colour_dictionary():\n",
        "  colour_codes = {\n",
        "      \"red\":\"#FF0000\",\n",
        "      \"green\":\"#008000\",\n",
        "      \"black\":\"#000000\",\n",
        "      \"white\":\"#FFFFFF\"\n",
        "  }\n",
        "  colour_codes[\"blue\"] = \"#0000FF\"\n",
        "  del colour_codes[\"black\"]\n",
        "  del colour_codes[\"white\"]\n",
        "  print(colour_codes)\n",
        "\n",
        "\n",
        "colour_dictionary()"
      ],
      "execution_count": null,
      "outputs": [
        {
          "output_type": "stream",
          "name": "stdout",
          "text": [
            "{'red': '#FF0000', 'green': '#008000', 'blue': '#0000FF'}\n"
          ]
        }
      ]
    },
    {
      "cell_type": "markdown",
      "metadata": {
        "id": "gjos_0vuMeyS"
      },
      "source": [
        "---\n",
        "### Exercise 9 - item tuples  \n",
        "\n",
        "Write a function which will:  \n",
        "*  create a new dictionary containing the colour codes for red, green, blue, black and white\n",
        "*  print the key/value pairs of a dictionary as a list of tuples  \n",
        "\n",
        "*Hint:  iterate through colours.items()*"
      ]
    },
    {
      "cell_type": "code",
      "metadata": {
        "id": "EzuMkUypOKTY",
        "colab": {
          "base_uri": "https://localhost:8080/"
        },
        "outputId": "cc81754f-6eb6-417c-eece-96b22fb8eabc"
      },
      "source": [
        "def colour_tuple():\n",
        "  colour_codes = {\n",
        "      \"red\":\"#FF0000\",\n",
        "      \"green\":\"#008000\",\n",
        "      \"blue\":\"#0000FF\",\n",
        "      \"black\":\"#000000\",\n",
        "      \"white\":\"#FFFFFF\"\n",
        "  }\n",
        "  return colour_codes.items()\n",
        "\n",
        "\n",
        "print(colour_tuple())"
      ],
      "execution_count": null,
      "outputs": [
        {
          "output_type": "stream",
          "name": "stdout",
          "text": [
            "dict_items([('red', '#FF0000'), ('green', '#008000'), ('blue', '#0000FF'), ('black', '#000000'), ('white', '#FFFFFF')])\n"
          ]
        }
      ]
    },
    {
      "cell_type": "markdown",
      "metadata": {
        "id": "Jw1ot10cOc6r"
      },
      "source": [
        "---\n",
        "### Exercise 10 - check if empty\n",
        "Taken from w3resouce.com  \n",
        "\n",
        "Write a function which will check if a dictionary is empty or not\n",
        "\n",
        "*Hint:  you can use bool(dictionary_name), if the dictionary is empty then bool(dictionary_name will be false)*\n",
        "\n",
        "Test 1 sample data:\n",
        "{}\n",
        "\n",
        "Expected output:\n",
        "Dictionary is empty  \n",
        "\n",
        "Test 2 sample data:  \n",
        "{\"name\":\"Groucho\", \"occupation\":\"comedian\"}\n",
        "\n",
        "Expected output:  \n",
        "Dictionary is not empty"
      ]
    },
    {
      "cell_type": "code",
      "metadata": {
        "id": "7UdM1TfwRqnt",
        "colab": {
          "base_uri": "https://localhost:8080/"
        },
        "outputId": "650496c5-6a60-4fb8-9924-f7893da04dca"
      },
      "source": [
        "def dictionary_check(name):\n",
        "  if bool(name) is True:\n",
        "    print(\"Dictionary is not empty\")\n",
        "  else: \n",
        "    print(\"Dictonary empty\")\n",
        "\n",
        "test = {\"name\":\"Groucho\", \"occupation\":\"comedian\"}\n",
        "dictionary_check(test)"
      ],
      "execution_count": 18,
      "outputs": [
        {
          "output_type": "stream",
          "name": "stdout",
          "text": [
            "Dictionary is not empty\n"
          ]
        }
      ]
    }
  ]
}
